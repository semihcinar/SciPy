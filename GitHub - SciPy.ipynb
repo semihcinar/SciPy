{
 "cells": [
  {
   "cell_type": "markdown",
   "id": "e3196411",
   "metadata": {},
   "source": [
    "# SciPy"
   ]
  },
  {
   "cell_type": "code",
   "execution_count": 32,
   "id": "705600cf",
   "metadata": {},
   "outputs": [],
   "source": [
    "import numpy as np\n",
    "import pandas as pd\n",
    "import matplotlib.pyplot as plt\n",
    "import seaborn as sns\n",
    "from scipy import stats"
   ]
  },
  {
   "cell_type": "code",
   "execution_count": 33,
   "id": "f2dff4d5",
   "metadata": {},
   "outputs": [],
   "source": [
    "df = pd.read_csv(\"C:/Users/sc977/GDriveNew/CLARUSWAY/0_DB/bad-drivers.csv\")"
   ]
  },
  {
   "cell_type": "code",
   "execution_count": 34,
   "id": "820a4f89",
   "metadata": {},
   "outputs": [
    {
     "data": {
      "text/plain": [
       "<function numpy.array>"
      ]
     },
     "execution_count": 34,
     "metadata": {},
     "output_type": "execute_result"
    }
   ],
   "source": [
    "np.array"
   ]
  },
  {
   "cell_type": "code",
   "execution_count": 35,
   "id": "24eae158",
   "metadata": {},
   "outputs": [
    {
     "data": {
      "text/plain": [
       "array(<class 'list'>, dtype=object)"
      ]
     },
     "execution_count": 35,
     "metadata": {},
     "output_type": "execute_result"
    }
   ],
   "source": [
    "arr = np.array(list)\n",
    "arr"
   ]
  },
  {
   "cell_type": "code",
   "execution_count": 36,
   "id": "e048dd31",
   "metadata": {},
   "outputs": [],
   "source": [
    "tv_hours = [3,5,2,0,5,3,1,4,3,4]\n",
    "GPA = [2.7,2.1,3.3,3.4,2.0,3.0,3.6,2.8,3.5,2.6]\n",
    "\n",
    "x = np.array(tv_hours)\n",
    "y = np.array(GPA)"
   ]
  },
  {
   "cell_type": "code",
   "execution_count": 37,
   "id": "0a7230e4",
   "metadata": {},
   "outputs": [
    {
     "data": {
      "text/plain": [
       "-71.00000000000011"
      ]
     },
     "execution_count": 37,
     "metadata": {},
     "output_type": "execute_result"
    }
   ],
   "source": [
    "len(x) * sum(x*y) - sum(x)*sum(y)"
   ]
  },
  {
   "cell_type": "code",
   "execution_count": 38,
   "id": "ae1cb73d",
   "metadata": {},
   "outputs": [
    {
     "data": {
      "text/plain": [
       "82.84926070883178"
      ]
     },
     "execution_count": 38,
     "metadata": {},
     "output_type": "execute_result"
    }
   ],
   "source": [
    "np.sqrt((len(x)*sum(x**2)-sum(x)**2)*(len(y)*sum(y**2)-sum(y)**2))"
   ]
  },
  {
   "cell_type": "code",
   "execution_count": 39,
   "id": "f58686b7",
   "metadata": {},
   "outputs": [
    {
     "data": {
      "text/plain": [
       "array([[ 1.        , -0.85697808],\n",
       "       [-0.85697808,  1.        ]])"
      ]
     },
     "execution_count": 39,
     "metadata": {},
     "output_type": "execute_result"
    }
   ],
   "source": [
    "np.corrcoef(tv_hours,GPA)"
   ]
  },
  {
   "cell_type": "code",
   "execution_count": 40,
   "id": "281c0caa",
   "metadata": {},
   "outputs": [
    {
     "data": {
      "text/plain": [
       "-71.00000000000011"
      ]
     },
     "execution_count": 40,
     "metadata": {},
     "output_type": "execute_result"
    }
   ],
   "source": [
    "len(x)*sum(x*y) - sum(x)*sum(y)"
   ]
  },
  {
   "cell_type": "code",
   "execution_count": 41,
   "id": "4e976e81",
   "metadata": {},
   "outputs": [
    {
     "data": {
      "text/plain": [
       "82.84926070883178"
      ]
     },
     "execution_count": 41,
     "metadata": {},
     "output_type": "execute_result"
    }
   ],
   "source": [
    "np.sqrt((len(x)*sum(x**2)-sum(x)**2)*(len(y)*sum(y**2)-sum(y)**2))"
   ]
  },
  {
   "cell_type": "code",
   "execution_count": 42,
   "id": "728b4e7b",
   "metadata": {},
   "outputs": [
    {
     "data": {
      "text/plain": [
       "-0.8569780755138501"
      ]
     },
     "execution_count": 42,
     "metadata": {},
     "output_type": "execute_result"
    }
   ],
   "source": [
    "r, p = stats.pearsonr(tv_hours, GPA)  # p değeri anlamlılık derecesidir. P değeri anlamlı çıkarsa bulduğumuz istatistik, popülasyonda anlamlı bir istatistiktir.\n",
    "r"
   ]
  },
  {
   "cell_type": "code",
   "execution_count": 43,
   "id": "eb731596",
   "metadata": {},
   "outputs": [
    {
     "data": {
      "text/plain": [
       "KendalltauResult(correlation=-0.7542472332656507, pvalue=0.0033968772424454747)"
      ]
     },
     "execution_count": 43,
     "metadata": {},
     "output_type": "execute_result"
    }
   ],
   "source": [
    "stats.kendalltau(tv_hours, GPA)"
   ]
  },
  {
   "cell_type": "code",
   "execution_count": 44,
   "id": "1c2e7760",
   "metadata": {},
   "outputs": [
    {
     "data": {
      "text/plain": [
       "0.3177777777777777"
      ]
     },
     "execution_count": 44,
     "metadata": {},
     "output_type": "execute_result"
    }
   ],
   "source": [
    "stats.tvar(GPA)  # Ama bu sample variance. Sample variance ile popülasyon variance arasındaki fark (n-1) dir. Biz Popülasyon varyansını bulmaya çalışsaydık farklı çıkardı."
   ]
  },
  {
   "cell_type": "code",
   "execution_count": 45,
   "id": "980bbc7f",
   "metadata": {},
   "outputs": [
    {
     "data": {
      "text/plain": [
       "0.2859999999999999"
      ]
     },
     "execution_count": 45,
     "metadata": {},
     "output_type": "execute_result"
    }
   ],
   "source": [
    "np.var(GPA)  # Bu popülasyon varyansıdır."
   ]
  },
  {
   "cell_type": "code",
   "execution_count": 46,
   "id": "febc08d8",
   "metadata": {},
   "outputs": [
    {
     "data": {
      "text/plain": [
       "array([[ 0.31777778, -0.78888889],\n",
       "       [-0.78888889,  2.66666667]])"
      ]
     },
     "execution_count": 46,
     "metadata": {},
     "output_type": "execute_result"
    }
   ],
   "source": [
    "np.cov(GPA, tv_hours)  # hem kovaryansı hem de sample varyansı verir."
   ]
  },
  {
   "cell_type": "code",
   "execution_count": 47,
   "id": "ea029f93",
   "metadata": {},
   "outputs": [
    {
     "data": {
      "text/plain": [
       "2.6666666666666665"
      ]
     },
     "execution_count": 47,
     "metadata": {},
     "output_type": "execute_result"
    }
   ],
   "source": [
    "stats.tvar(tv_hours)  # bu da tv izleme sürelerinin sample varyansını verir."
   ]
  },
  {
   "cell_type": "code",
   "execution_count": 48,
   "id": "8ad1e050",
   "metadata": {},
   "outputs": [
    {
     "data": {
      "text/html": [
       "<div>\n",
       "<style scoped>\n",
       "    .dataframe tbody tr th:only-of-type {\n",
       "        vertical-align: middle;\n",
       "    }\n",
       "\n",
       "    .dataframe tbody tr th {\n",
       "        vertical-align: top;\n",
       "    }\n",
       "\n",
       "    .dataframe thead th {\n",
       "        text-align: right;\n",
       "    }\n",
       "</style>\n",
       "<table border=\"1\" class=\"dataframe\">\n",
       "  <thead>\n",
       "    <tr style=\"text-align: right;\">\n",
       "      <th></th>\n",
       "      <th>Number of drivers involved in fatal collisions per billion miles</th>\n",
       "      <th>Percentage Of Drivers Involved In Fatal Collisions Who Were Speeding</th>\n",
       "      <th>Percentage Of Drivers Involved In Fatal Collisions Who Were Alcohol-Impaired</th>\n",
       "      <th>Percentage Of Drivers Involved In Fatal Collisions Who Were Not Distracted</th>\n",
       "      <th>Percentage Of Drivers Involved In Fatal Collisions Who Had Not Been Involved In Any Previous Accidents</th>\n",
       "      <th>Car Insurance Premiums ($)</th>\n",
       "      <th>Losses incurred by insurance companies for collisions per insured driver ($)</th>\n",
       "    </tr>\n",
       "  </thead>\n",
       "  <tbody>\n",
       "    <tr>\n",
       "      <th>count</th>\n",
       "      <td>51.000000</td>\n",
       "      <td>51.000000</td>\n",
       "      <td>51.000000</td>\n",
       "      <td>51.000000</td>\n",
       "      <td>51.00000</td>\n",
       "      <td>51.000000</td>\n",
       "      <td>51.000000</td>\n",
       "    </tr>\n",
       "    <tr>\n",
       "      <th>mean</th>\n",
       "      <td>15.790196</td>\n",
       "      <td>31.725490</td>\n",
       "      <td>30.686275</td>\n",
       "      <td>85.921569</td>\n",
       "      <td>88.72549</td>\n",
       "      <td>886.957647</td>\n",
       "      <td>134.493137</td>\n",
       "    </tr>\n",
       "    <tr>\n",
       "      <th>std</th>\n",
       "      <td>4.122002</td>\n",
       "      <td>9.633438</td>\n",
       "      <td>5.132213</td>\n",
       "      <td>15.158949</td>\n",
       "      <td>6.96011</td>\n",
       "      <td>178.296285</td>\n",
       "      <td>24.835922</td>\n",
       "    </tr>\n",
       "    <tr>\n",
       "      <th>min</th>\n",
       "      <td>5.900000</td>\n",
       "      <td>13.000000</td>\n",
       "      <td>16.000000</td>\n",
       "      <td>10.000000</td>\n",
       "      <td>76.00000</td>\n",
       "      <td>641.960000</td>\n",
       "      <td>82.750000</td>\n",
       "    </tr>\n",
       "    <tr>\n",
       "      <th>25%</th>\n",
       "      <td>12.750000</td>\n",
       "      <td>23.000000</td>\n",
       "      <td>28.000000</td>\n",
       "      <td>83.000000</td>\n",
       "      <td>83.50000</td>\n",
       "      <td>768.430000</td>\n",
       "      <td>114.645000</td>\n",
       "    </tr>\n",
       "    <tr>\n",
       "      <th>50%</th>\n",
       "      <td>15.600000</td>\n",
       "      <td>34.000000</td>\n",
       "      <td>30.000000</td>\n",
       "      <td>88.000000</td>\n",
       "      <td>88.00000</td>\n",
       "      <td>858.970000</td>\n",
       "      <td>136.050000</td>\n",
       "    </tr>\n",
       "    <tr>\n",
       "      <th>75%</th>\n",
       "      <td>18.500000</td>\n",
       "      <td>38.000000</td>\n",
       "      <td>33.000000</td>\n",
       "      <td>95.000000</td>\n",
       "      <td>95.00000</td>\n",
       "      <td>1007.945000</td>\n",
       "      <td>151.870000</td>\n",
       "    </tr>\n",
       "    <tr>\n",
       "      <th>max</th>\n",
       "      <td>23.900000</td>\n",
       "      <td>54.000000</td>\n",
       "      <td>44.000000</td>\n",
       "      <td>100.000000</td>\n",
       "      <td>100.00000</td>\n",
       "      <td>1301.520000</td>\n",
       "      <td>194.780000</td>\n",
       "    </tr>\n",
       "  </tbody>\n",
       "</table>\n",
       "</div>"
      ],
      "text/plain": [
       "       Number of drivers involved in fatal collisions per billion miles  \\\n",
       "count                                          51.000000                  \n",
       "mean                                           15.790196                  \n",
       "std                                             4.122002                  \n",
       "min                                             5.900000                  \n",
       "25%                                            12.750000                  \n",
       "50%                                            15.600000                  \n",
       "75%                                            18.500000                  \n",
       "max                                            23.900000                  \n",
       "\n",
       "       Percentage Of Drivers Involved In Fatal Collisions Who Were Speeding  \\\n",
       "count                                          51.000000                      \n",
       "mean                                           31.725490                      \n",
       "std                                             9.633438                      \n",
       "min                                            13.000000                      \n",
       "25%                                            23.000000                      \n",
       "50%                                            34.000000                      \n",
       "75%                                            38.000000                      \n",
       "max                                            54.000000                      \n",
       "\n",
       "       Percentage Of Drivers Involved In Fatal Collisions Who Were Alcohol-Impaired  \\\n",
       "count                                          51.000000                              \n",
       "mean                                           30.686275                              \n",
       "std                                             5.132213                              \n",
       "min                                            16.000000                              \n",
       "25%                                            28.000000                              \n",
       "50%                                            30.000000                              \n",
       "75%                                            33.000000                              \n",
       "max                                            44.000000                              \n",
       "\n",
       "       Percentage Of Drivers Involved In Fatal Collisions Who Were Not Distracted  \\\n",
       "count                                          51.000000                            \n",
       "mean                                           85.921569                            \n",
       "std                                            15.158949                            \n",
       "min                                            10.000000                            \n",
       "25%                                            83.000000                            \n",
       "50%                                            88.000000                            \n",
       "75%                                            95.000000                            \n",
       "max                                           100.000000                            \n",
       "\n",
       "       Percentage Of Drivers Involved In Fatal Collisions Who Had Not Been Involved In Any Previous Accidents  \\\n",
       "count                                           51.00000                                                        \n",
       "mean                                            88.72549                                                        \n",
       "std                                              6.96011                                                        \n",
       "min                                             76.00000                                                        \n",
       "25%                                             83.50000                                                        \n",
       "50%                                             88.00000                                                        \n",
       "75%                                             95.00000                                                        \n",
       "max                                            100.00000                                                        \n",
       "\n",
       "       Car Insurance Premiums ($)  \\\n",
       "count                   51.000000   \n",
       "mean                   886.957647   \n",
       "std                    178.296285   \n",
       "min                    641.960000   \n",
       "25%                    768.430000   \n",
       "50%                    858.970000   \n",
       "75%                   1007.945000   \n",
       "max                   1301.520000   \n",
       "\n",
       "       Losses incurred by insurance companies for collisions per insured driver ($)  \n",
       "count                                          51.000000                             \n",
       "mean                                          134.493137                             \n",
       "std                                            24.835922                             \n",
       "min                                            82.750000                             \n",
       "25%                                           114.645000                             \n",
       "50%                                           136.050000                             \n",
       "75%                                           151.870000                             \n",
       "max                                           194.780000                             "
      ]
     },
     "execution_count": 48,
     "metadata": {},
     "output_type": "execute_result"
    }
   ],
   "source": [
    "df.describe()"
   ]
  },
  {
   "cell_type": "code",
   "execution_count": 49,
   "id": "62ceedb6",
   "metadata": {},
   "outputs": [
    {
     "data": {
      "text/html": [
       "<div>\n",
       "<style scoped>\n",
       "    .dataframe tbody tr th:only-of-type {\n",
       "        vertical-align: middle;\n",
       "    }\n",
       "\n",
       "    .dataframe tbody tr th {\n",
       "        vertical-align: top;\n",
       "    }\n",
       "\n",
       "    .dataframe thead th {\n",
       "        text-align: right;\n",
       "    }\n",
       "</style>\n",
       "<table border=\"1\" class=\"dataframe\">\n",
       "  <thead>\n",
       "    <tr style=\"text-align: right;\">\n",
       "      <th></th>\n",
       "      <th>Number of drivers involved in fatal collisions per billion miles</th>\n",
       "      <th>Percentage Of Drivers Involved In Fatal Collisions Who Were Speeding</th>\n",
       "      <th>Percentage Of Drivers Involved In Fatal Collisions Who Were Alcohol-Impaired</th>\n",
       "      <th>Percentage Of Drivers Involved In Fatal Collisions Who Were Not Distracted</th>\n",
       "      <th>Percentage Of Drivers Involved In Fatal Collisions Who Had Not Been Involved In Any Previous Accidents</th>\n",
       "      <th>Car Insurance Premiums ($)</th>\n",
       "      <th>Losses incurred by insurance companies for collisions per insured driver ($)</th>\n",
       "    </tr>\n",
       "  </thead>\n",
       "  <tbody>\n",
       "    <tr>\n",
       "      <th>Number of drivers involved in fatal collisions per billion miles</th>\n",
       "      <td>1.000000</td>\n",
       "      <td>-0.029080</td>\n",
       "      <td>0.199426</td>\n",
       "      <td>0.009782</td>\n",
       "      <td>-0.017942</td>\n",
       "      <td>-0.199702</td>\n",
       "      <td>-0.036011</td>\n",
       "    </tr>\n",
       "    <tr>\n",
       "      <th>Percentage Of Drivers Involved In Fatal Collisions Who Were Speeding</th>\n",
       "      <td>-0.029080</td>\n",
       "      <td>1.000000</td>\n",
       "      <td>0.286244</td>\n",
       "      <td>0.131738</td>\n",
       "      <td>0.014066</td>\n",
       "      <td>0.042541</td>\n",
       "      <td>-0.061241</td>\n",
       "    </tr>\n",
       "    <tr>\n",
       "      <th>Percentage Of Drivers Involved In Fatal Collisions Who Were Alcohol-Impaired</th>\n",
       "      <td>0.199426</td>\n",
       "      <td>0.286244</td>\n",
       "      <td>1.000000</td>\n",
       "      <td>0.043380</td>\n",
       "      <td>-0.245455</td>\n",
       "      <td>-0.017451</td>\n",
       "      <td>-0.083916</td>\n",
       "    </tr>\n",
       "    <tr>\n",
       "      <th>Percentage Of Drivers Involved In Fatal Collisions Who Were Not Distracted</th>\n",
       "      <td>0.009782</td>\n",
       "      <td>0.131738</td>\n",
       "      <td>0.043380</td>\n",
       "      <td>1.000000</td>\n",
       "      <td>-0.195265</td>\n",
       "      <td>0.019578</td>\n",
       "      <td>-0.058467</td>\n",
       "    </tr>\n",
       "    <tr>\n",
       "      <th>Percentage Of Drivers Involved In Fatal Collisions Who Had Not Been Involved In Any Previous Accidents</th>\n",
       "      <td>-0.017942</td>\n",
       "      <td>0.014066</td>\n",
       "      <td>-0.245455</td>\n",
       "      <td>-0.195265</td>\n",
       "      <td>1.000000</td>\n",
       "      <td>0.075533</td>\n",
       "      <td>0.042770</td>\n",
       "    </tr>\n",
       "    <tr>\n",
       "      <th>Car Insurance Premiums ($)</th>\n",
       "      <td>-0.199702</td>\n",
       "      <td>0.042541</td>\n",
       "      <td>-0.017451</td>\n",
       "      <td>0.019578</td>\n",
       "      <td>0.075533</td>\n",
       "      <td>1.000000</td>\n",
       "      <td>0.623116</td>\n",
       "    </tr>\n",
       "    <tr>\n",
       "      <th>Losses incurred by insurance companies for collisions per insured driver ($)</th>\n",
       "      <td>-0.036011</td>\n",
       "      <td>-0.061241</td>\n",
       "      <td>-0.083916</td>\n",
       "      <td>-0.058467</td>\n",
       "      <td>0.042770</td>\n",
       "      <td>0.623116</td>\n",
       "      <td>1.000000</td>\n",
       "    </tr>\n",
       "  </tbody>\n",
       "</table>\n",
       "</div>"
      ],
      "text/plain": [
       "                                                    Number of drivers involved in fatal collisions per billion miles  \\\n",
       "Number of drivers involved in fatal collisions ...                                           1.000000                  \n",
       "Percentage Of Drivers Involved In Fatal Collisi...                                          -0.029080                  \n",
       "Percentage Of Drivers Involved In Fatal Collisi...                                           0.199426                  \n",
       "Percentage Of Drivers Involved In Fatal Collisi...                                           0.009782                  \n",
       "Percentage Of Drivers Involved In Fatal Collisi...                                          -0.017942                  \n",
       "Car Insurance Premiums ($)                                                                  -0.199702                  \n",
       "Losses incurred by insurance companies for coll...                                          -0.036011                  \n",
       "\n",
       "                                                    Percentage Of Drivers Involved In Fatal Collisions Who Were Speeding  \\\n",
       "Number of drivers involved in fatal collisions ...                                          -0.029080                      \n",
       "Percentage Of Drivers Involved In Fatal Collisi...                                           1.000000                      \n",
       "Percentage Of Drivers Involved In Fatal Collisi...                                           0.286244                      \n",
       "Percentage Of Drivers Involved In Fatal Collisi...                                           0.131738                      \n",
       "Percentage Of Drivers Involved In Fatal Collisi...                                           0.014066                      \n",
       "Car Insurance Premiums ($)                                                                   0.042541                      \n",
       "Losses incurred by insurance companies for coll...                                          -0.061241                      \n",
       "\n",
       "                                                    Percentage Of Drivers Involved In Fatal Collisions Who Were Alcohol-Impaired  \\\n",
       "Number of drivers involved in fatal collisions ...                                           0.199426                              \n",
       "Percentage Of Drivers Involved In Fatal Collisi...                                           0.286244                              \n",
       "Percentage Of Drivers Involved In Fatal Collisi...                                           1.000000                              \n",
       "Percentage Of Drivers Involved In Fatal Collisi...                                           0.043380                              \n",
       "Percentage Of Drivers Involved In Fatal Collisi...                                          -0.245455                              \n",
       "Car Insurance Premiums ($)                                                                  -0.017451                              \n",
       "Losses incurred by insurance companies for coll...                                          -0.083916                              \n",
       "\n",
       "                                                    Percentage Of Drivers Involved In Fatal Collisions Who Were Not Distracted  \\\n",
       "Number of drivers involved in fatal collisions ...                                           0.009782                            \n",
       "Percentage Of Drivers Involved In Fatal Collisi...                                           0.131738                            \n",
       "Percentage Of Drivers Involved In Fatal Collisi...                                           0.043380                            \n",
       "Percentage Of Drivers Involved In Fatal Collisi...                                           1.000000                            \n",
       "Percentage Of Drivers Involved In Fatal Collisi...                                          -0.195265                            \n",
       "Car Insurance Premiums ($)                                                                   0.019578                            \n",
       "Losses incurred by insurance companies for coll...                                          -0.058467                            \n",
       "\n",
       "                                                    Percentage Of Drivers Involved In Fatal Collisions Who Had Not Been Involved In Any Previous Accidents  \\\n",
       "Number of drivers involved in fatal collisions ...                                          -0.017942                                                        \n",
       "Percentage Of Drivers Involved In Fatal Collisi...                                           0.014066                                                        \n",
       "Percentage Of Drivers Involved In Fatal Collisi...                                          -0.245455                                                        \n",
       "Percentage Of Drivers Involved In Fatal Collisi...                                          -0.195265                                                        \n",
       "Percentage Of Drivers Involved In Fatal Collisi...                                           1.000000                                                        \n",
       "Car Insurance Premiums ($)                                                                   0.075533                                                        \n",
       "Losses incurred by insurance companies for coll...                                           0.042770                                                        \n",
       "\n",
       "                                                    Car Insurance Premiums ($)  \\\n",
       "Number of drivers involved in fatal collisions ...                   -0.199702   \n",
       "Percentage Of Drivers Involved In Fatal Collisi...                    0.042541   \n",
       "Percentage Of Drivers Involved In Fatal Collisi...                   -0.017451   \n",
       "Percentage Of Drivers Involved In Fatal Collisi...                    0.019578   \n",
       "Percentage Of Drivers Involved In Fatal Collisi...                    0.075533   \n",
       "Car Insurance Premiums ($)                                            1.000000   \n",
       "Losses incurred by insurance companies for coll...                    0.623116   \n",
       "\n",
       "                                                    Losses incurred by insurance companies for collisions per insured driver ($)  \n",
       "Number of drivers involved in fatal collisions ...                                          -0.036011                             \n",
       "Percentage Of Drivers Involved In Fatal Collisi...                                          -0.061241                             \n",
       "Percentage Of Drivers Involved In Fatal Collisi...                                          -0.083916                             \n",
       "Percentage Of Drivers Involved In Fatal Collisi...                                          -0.058467                             \n",
       "Percentage Of Drivers Involved In Fatal Collisi...                                           0.042770                             \n",
       "Car Insurance Premiums ($)                                                                   0.623116                             \n",
       "Losses incurred by insurance companies for coll...                                           1.000000                             "
      ]
     },
     "execution_count": 49,
     "metadata": {},
     "output_type": "execute_result"
    }
   ],
   "source": [
    "df.corr()  # değişkenler arasındaki karşılıklı incelemeler için korelasyonu inceleyelim. (Bu Pearson'dur.)"
   ]
  },
  {
   "cell_type": "code",
   "execution_count": 50,
   "id": "146ece35",
   "metadata": {},
   "outputs": [
    {
     "data": {
      "text/html": [
       "<div>\n",
       "<style scoped>\n",
       "    .dataframe tbody tr th:only-of-type {\n",
       "        vertical-align: middle;\n",
       "    }\n",
       "\n",
       "    .dataframe tbody tr th {\n",
       "        vertical-align: top;\n",
       "    }\n",
       "\n",
       "    .dataframe thead th {\n",
       "        text-align: right;\n",
       "    }\n",
       "</style>\n",
       "<table border=\"1\" class=\"dataframe\">\n",
       "  <thead>\n",
       "    <tr style=\"text-align: right;\">\n",
       "      <th></th>\n",
       "      <th>Number of drivers involved in fatal collisions per billion miles</th>\n",
       "      <th>Percentage Of Drivers Involved In Fatal Collisions Who Were Speeding</th>\n",
       "      <th>Percentage Of Drivers Involved In Fatal Collisions Who Were Alcohol-Impaired</th>\n",
       "      <th>Percentage Of Drivers Involved In Fatal Collisions Who Were Not Distracted</th>\n",
       "      <th>Percentage Of Drivers Involved In Fatal Collisions Who Had Not Been Involved In Any Previous Accidents</th>\n",
       "      <th>Car Insurance Premiums ($)</th>\n",
       "      <th>Losses incurred by insurance companies for collisions per insured driver ($)</th>\n",
       "    </tr>\n",
       "  </thead>\n",
       "  <tbody>\n",
       "    <tr>\n",
       "      <th>count</th>\n",
       "      <td>51.000000</td>\n",
       "      <td>51.000000</td>\n",
       "      <td>51.000000</td>\n",
       "      <td>51.000000</td>\n",
       "      <td>51.00000</td>\n",
       "      <td>51.000000</td>\n",
       "      <td>51.000000</td>\n",
       "    </tr>\n",
       "    <tr>\n",
       "      <th>mean</th>\n",
       "      <td>15.790196</td>\n",
       "      <td>31.725490</td>\n",
       "      <td>30.686275</td>\n",
       "      <td>85.921569</td>\n",
       "      <td>88.72549</td>\n",
       "      <td>886.957647</td>\n",
       "      <td>134.493137</td>\n",
       "    </tr>\n",
       "    <tr>\n",
       "      <th>std</th>\n",
       "      <td>4.122002</td>\n",
       "      <td>9.633438</td>\n",
       "      <td>5.132213</td>\n",
       "      <td>15.158949</td>\n",
       "      <td>6.96011</td>\n",
       "      <td>178.296285</td>\n",
       "      <td>24.835922</td>\n",
       "    </tr>\n",
       "    <tr>\n",
       "      <th>min</th>\n",
       "      <td>5.900000</td>\n",
       "      <td>13.000000</td>\n",
       "      <td>16.000000</td>\n",
       "      <td>10.000000</td>\n",
       "      <td>76.00000</td>\n",
       "      <td>641.960000</td>\n",
       "      <td>82.750000</td>\n",
       "    </tr>\n",
       "    <tr>\n",
       "      <th>25%</th>\n",
       "      <td>12.750000</td>\n",
       "      <td>23.000000</td>\n",
       "      <td>28.000000</td>\n",
       "      <td>83.000000</td>\n",
       "      <td>83.50000</td>\n",
       "      <td>768.430000</td>\n",
       "      <td>114.645000</td>\n",
       "    </tr>\n",
       "    <tr>\n",
       "      <th>50%</th>\n",
       "      <td>15.600000</td>\n",
       "      <td>34.000000</td>\n",
       "      <td>30.000000</td>\n",
       "      <td>88.000000</td>\n",
       "      <td>88.00000</td>\n",
       "      <td>858.970000</td>\n",
       "      <td>136.050000</td>\n",
       "    </tr>\n",
       "    <tr>\n",
       "      <th>75%</th>\n",
       "      <td>18.500000</td>\n",
       "      <td>38.000000</td>\n",
       "      <td>33.000000</td>\n",
       "      <td>95.000000</td>\n",
       "      <td>95.00000</td>\n",
       "      <td>1007.945000</td>\n",
       "      <td>151.870000</td>\n",
       "    </tr>\n",
       "    <tr>\n",
       "      <th>max</th>\n",
       "      <td>23.900000</td>\n",
       "      <td>54.000000</td>\n",
       "      <td>44.000000</td>\n",
       "      <td>100.000000</td>\n",
       "      <td>100.00000</td>\n",
       "      <td>1301.520000</td>\n",
       "      <td>194.780000</td>\n",
       "    </tr>\n",
       "  </tbody>\n",
       "</table>\n",
       "</div>"
      ],
      "text/plain": [
       "       Number of drivers involved in fatal collisions per billion miles  \\\n",
       "count                                          51.000000                  \n",
       "mean                                           15.790196                  \n",
       "std                                             4.122002                  \n",
       "min                                             5.900000                  \n",
       "25%                                            12.750000                  \n",
       "50%                                            15.600000                  \n",
       "75%                                            18.500000                  \n",
       "max                                            23.900000                  \n",
       "\n",
       "       Percentage Of Drivers Involved In Fatal Collisions Who Were Speeding  \\\n",
       "count                                          51.000000                      \n",
       "mean                                           31.725490                      \n",
       "std                                             9.633438                      \n",
       "min                                            13.000000                      \n",
       "25%                                            23.000000                      \n",
       "50%                                            34.000000                      \n",
       "75%                                            38.000000                      \n",
       "max                                            54.000000                      \n",
       "\n",
       "       Percentage Of Drivers Involved In Fatal Collisions Who Were Alcohol-Impaired  \\\n",
       "count                                          51.000000                              \n",
       "mean                                           30.686275                              \n",
       "std                                             5.132213                              \n",
       "min                                            16.000000                              \n",
       "25%                                            28.000000                              \n",
       "50%                                            30.000000                              \n",
       "75%                                            33.000000                              \n",
       "max                                            44.000000                              \n",
       "\n",
       "       Percentage Of Drivers Involved In Fatal Collisions Who Were Not Distracted  \\\n",
       "count                                          51.000000                            \n",
       "mean                                           85.921569                            \n",
       "std                                            15.158949                            \n",
       "min                                            10.000000                            \n",
       "25%                                            83.000000                            \n",
       "50%                                            88.000000                            \n",
       "75%                                            95.000000                            \n",
       "max                                           100.000000                            \n",
       "\n",
       "       Percentage Of Drivers Involved In Fatal Collisions Who Had Not Been Involved In Any Previous Accidents  \\\n",
       "count                                           51.00000                                                        \n",
       "mean                                            88.72549                                                        \n",
       "std                                              6.96011                                                        \n",
       "min                                             76.00000                                                        \n",
       "25%                                             83.50000                                                        \n",
       "50%                                             88.00000                                                        \n",
       "75%                                             95.00000                                                        \n",
       "max                                            100.00000                                                        \n",
       "\n",
       "       Car Insurance Premiums ($)  \\\n",
       "count                   51.000000   \n",
       "mean                   886.957647   \n",
       "std                    178.296285   \n",
       "min                    641.960000   \n",
       "25%                    768.430000   \n",
       "50%                    858.970000   \n",
       "75%                   1007.945000   \n",
       "max                   1301.520000   \n",
       "\n",
       "       Losses incurred by insurance companies for collisions per insured driver ($)  \n",
       "count                                          51.000000                             \n",
       "mean                                          134.493137                             \n",
       "std                                            24.835922                             \n",
       "min                                            82.750000                             \n",
       "25%                                           114.645000                             \n",
       "50%                                           136.050000                             \n",
       "75%                                           151.870000                             \n",
       "max                                           194.780000                             "
      ]
     },
     "execution_count": 50,
     "metadata": {},
     "output_type": "execute_result"
    }
   ],
   "source": [
    "df.describe()  # değişkenlerin kendisi ile alakalı bir takım istatistiki bilgilere bakarız."
   ]
  },
  {
   "cell_type": "code",
   "execution_count": 51,
   "id": "6b3e70c1",
   "metadata": {},
   "outputs": [
    {
     "data": {
      "text/plain": [
       "-0.017941876874043288"
      ]
     },
     "execution_count": 51,
     "metadata": {},
     "output_type": "execute_result"
    }
   ],
   "source": [
    "df.corr().iloc[0,4]"
   ]
  },
  {
   "cell_type": "code",
   "execution_count": 52,
   "id": "501b9a63",
   "metadata": {},
   "outputs": [
    {
     "data": {
      "text/html": [
       "<div>\n",
       "<style scoped>\n",
       "    .dataframe tbody tr th:only-of-type {\n",
       "        vertical-align: middle;\n",
       "    }\n",
       "\n",
       "    .dataframe tbody tr th {\n",
       "        vertical-align: top;\n",
       "    }\n",
       "\n",
       "    .dataframe thead th {\n",
       "        text-align: right;\n",
       "    }\n",
       "</style>\n",
       "<table border=\"1\" class=\"dataframe\">\n",
       "  <thead>\n",
       "    <tr style=\"text-align: right;\">\n",
       "      <th></th>\n",
       "      <th>Percentage Of Drivers Involved In Fatal Collisions Who Had Not Been Involved In Any Previous Accidents</th>\n",
       "    </tr>\n",
       "  </thead>\n",
       "  <tbody>\n",
       "    <tr>\n",
       "      <th>Number of drivers involved in fatal collisions per billion miles</th>\n",
       "      <td>-0.017942</td>\n",
       "    </tr>\n",
       "  </tbody>\n",
       "</table>\n",
       "</div>"
      ],
      "text/plain": [
       "                                                    Percentage Of Drivers Involved In Fatal Collisions Who Had Not Been Involved In Any Previous Accidents\n",
       "Number of drivers involved in fatal collisions ...                                          -0.017942                                                     "
      ]
     },
     "execution_count": 52,
     "metadata": {},
     "output_type": "execute_result"
    }
   ],
   "source": [
    "df.corr().iloc[0:1, 4:5]"
   ]
  }
 ],
 "metadata": {
  "kernelspec": {
   "display_name": "Python 3",
   "language": "python",
   "name": "python3"
  },
  "language_info": {
   "codemirror_mode": {
    "name": "ipython",
    "version": 3
   },
   "file_extension": ".py",
   "mimetype": "text/x-python",
   "name": "python",
   "nbconvert_exporter": "python",
   "pygments_lexer": "ipython3",
   "version": "3.8.8"
  }
 },
 "nbformat": 4,
 "nbformat_minor": 5
}
